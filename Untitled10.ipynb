{
 "cells": [
  {
   "cell_type": "markdown",
   "id": "9b785249",
   "metadata": {
    "toc": true
   },
   "source": [
    "<h1>Table of Contents<span class=\"tocSkip\"></span></h1>\n",
    "<div class=\"toc\"><ul class=\"toc-item\"></ul></div>"
   ]
  },
  {
   "cell_type": "code",
   "execution_count": 1,
   "id": "c2afbaea",
   "metadata": {},
   "outputs": [],
   "source": [
    "# импорт необходимых библиотек\n",
    "import os\n",
    "import pandas as pd"
   ]
  },
  {
   "cell_type": "code",
   "execution_count": 5,
   "id": "c5640380",
   "metadata": {},
   "outputs": [
    {
     "name": "stderr",
     "output_type": "stream",
     "text": [
      "C:\\Users\\kil_a\\AppData\\Local\\Temp\\ipykernel_4080\\3025154719.py:7: DtypeWarning: Columns (29) have mixed types. Specify dtype option on import or set low_memory=False.\n",
      "  apl = pd.read_csv(way_apl_0, sep = ';')\n"
     ]
    }
   ],
   "source": [
    "# загрузка данных\n",
    "way_apl_0 = 'applications.csv'\n",
    "way_apl_1 = r\"C:\\Users\\kil_a\\OneDrive\\Рабочий стол\\ГУАП\\Проект 2.0\\applications.csv\"\n",
    "way_adm_0 = 'admission.csv'\n",
    "way_adm_1 = r\"C:\\Users\\kil_a\\OneDrive\\Рабочий стол\\ГУАП\\Проект 2.0\\admission.csv\"\n",
    "if os.path.exists(way_apl_0) and os.path.exists(way_adm_0):\n",
    "    apl = pd.read_csv(way_apl_0, sep = ';')\n",
    "    adm = pd.read_csv(way_adm_0, sep = ';')\n",
    "elif os.path.exists(way_apl_1) and os.path.exists(way_adm_1):\n",
    "    apl = pd.read_csv(way_apl_1, sep = ';')\n",
    "    adm = pd.read_csv(way_adm_1, sep = ';')\n",
    "else:\n",
    "    print('Error (-_-)')"
   ]
  },
  {
   "cell_type": "code",
   "execution_count": 9,
   "id": "b5ae5c4d",
   "metadata": {},
   "outputs": [
    {
     "name": "stdout",
     "output_type": "stream",
     "text": [
      "                eid           aid  original_weight      priority  \\\n",
      "count  57921.000000  57921.000000     10961.000000  57913.000000   \n",
      "mean    8172.924000  36411.928351         4.673752      2.732443   \n",
      "std     4620.277335  20445.233035         1.626013      1.888015   \n",
      "min        2.000000    402.000000         1.000000      1.000000   \n",
      "25%     4154.000000  18630.000000         4.000000      1.000000   \n",
      "50%     8182.000000  36587.000000         5.000000      2.000000   \n",
      "75%    12204.000000  54462.000000         5.000000      4.000000   \n",
      "max    16821.000000  71221.000000        15.000000    100.000000   \n",
      "\n",
      "       competitive_scores  entrance_test_scores  achievement_scores  \\\n",
      "count        48201.000000          48201.000000        45675.000000   \n",
      "mean           210.612975            203.368934            7.983492   \n",
      "std             43.081952             43.632894            7.733092   \n",
      "min              2.000000              2.000000            3.000000   \n",
      "25%            192.000000            186.000000            5.000000   \n",
      "50%            217.000000            211.000000            5.000000   \n",
      "75%            240.000000            233.000000           10.000000   \n",
      "max            303.000000            300.000000          100.000000   \n",
      "\n",
      "       ege_average_score  merged_education_level_id    payment_sum  \\\n",
      "count       43963.000000               57921.000000    1338.000000   \n",
      "mean           70.572368                   1.221595   89626.980568   \n",
      "std             9.595255                   0.590919   47326.186938   \n",
      "min            39.000000                   1.000000   20000.000000   \n",
      "25%            63.666667                   1.000000   50000.000000   \n",
      "50%            71.000000                   1.000000   96000.000000   \n",
      "75%            78.000000                   1.000000  120000.000000   \n",
      "max            98.500000                   4.000000  480000.000000   \n",
      "\n",
      "       price_semester  original  original_online  subject_count  \\\n",
      "count     1764.000000    9545.0           4557.0   50370.000000   \n",
      "mean     84229.591888       1.0              1.0       2.857078   \n",
      "std      38097.540290       0.0              0.0       0.512701   \n",
      "min       9000.090000       1.0              1.0       1.000000   \n",
      "25%      50000.000000       1.0              1.0       3.000000   \n",
      "50%      61000.000000       1.0              1.0       3.000000   \n",
      "75%     120000.000000       1.0              1.0       3.000000   \n",
      "max     190000.000000       1.0              1.0       3.000000   \n",
      "\n",
      "       svo_no_exams_application_id  \n",
      "count                    61.000000  \n",
      "mean                  31685.344262  \n",
      "std                   16155.947137  \n",
      "min                   11644.000000  \n",
      "25%                   21926.000000  \n",
      "50%                   29358.000000  \n",
      "75%                   39294.000000  \n",
      "max                   67052.000000  \n"
     ]
    },
    {
     "data": {
      "text/html": [
       "<div>\n",
       "<style scoped>\n",
       "    .dataframe tbody tr th:only-of-type {\n",
       "        vertical-align: middle;\n",
       "    }\n",
       "\n",
       "    .dataframe tbody tr th {\n",
       "        vertical-align: top;\n",
       "    }\n",
       "\n",
       "    .dataframe thead th {\n",
       "        text-align: right;\n",
       "    }\n",
       "</style>\n",
       "<table border=\"1\" class=\"dataframe\">\n",
       "  <thead>\n",
       "    <tr style=\"text-align: right;\">\n",
       "      <th></th>\n",
       "      <th>eid</th>\n",
       "      <th>aid</th>\n",
       "      <th>organization</th>\n",
       "      <th>code</th>\n",
       "      <th>name</th>\n",
       "      <th>original_weight</th>\n",
       "      <th>finsourse</th>\n",
       "      <th>eduform</th>\n",
       "      <th>edulevel</th>\n",
       "      <th>is_only_for_foreign</th>\n",
       "      <th>...</th>\n",
       "      <th>payment_sum</th>\n",
       "      <th>price_semester</th>\n",
       "      <th>original</th>\n",
       "      <th>original_online</th>\n",
       "      <th>original_another</th>\n",
       "      <th>subject_count</th>\n",
       "      <th>olymp_name</th>\n",
       "      <th>svo_no_exams_application_id</th>\n",
       "      <th>belgorod_school_city</th>\n",
       "      <th>svo_type</th>\n",
       "    </tr>\n",
       "  </thead>\n",
       "  <tbody>\n",
       "    <tr>\n",
       "      <th>0</th>\n",
       "      <td>9392</td>\n",
       "      <td>37028</td>\n",
       "      <td>ГУАП</td>\n",
       "      <td>27.03.02</td>\n",
       "      <td>Управление качеством</td>\n",
       "      <td>15.0</td>\n",
       "      <td>особая квота</td>\n",
       "      <td>очная</td>\n",
       "      <td>Бакалавриат</td>\n",
       "      <td>f</td>\n",
       "      <td>...</td>\n",
       "      <td>NaN</td>\n",
       "      <td>NaN</td>\n",
       "      <td>NaN</td>\n",
       "      <td>1.0</td>\n",
       "      <td>NaN</td>\n",
       "      <td>3.0</td>\n",
       "      <td>NaN</td>\n",
       "      <td>NaN</td>\n",
       "      <td>NaN</td>\n",
       "      <td>NaN</td>\n",
       "    </tr>\n",
       "    <tr>\n",
       "      <th>1</th>\n",
       "      <td>9392</td>\n",
       "      <td>37029</td>\n",
       "      <td>ГУАП</td>\n",
       "      <td>27.03.02</td>\n",
       "      <td>Управление качеством</td>\n",
       "      <td>15.0</td>\n",
       "      <td>бюджет</td>\n",
       "      <td>очная</td>\n",
       "      <td>Бакалавриат</td>\n",
       "      <td>f</td>\n",
       "      <td>...</td>\n",
       "      <td>NaN</td>\n",
       "      <td>NaN</td>\n",
       "      <td>NaN</td>\n",
       "      <td>1.0</td>\n",
       "      <td>NaN</td>\n",
       "      <td>3.0</td>\n",
       "      <td>NaN</td>\n",
       "      <td>NaN</td>\n",
       "      <td>NaN</td>\n",
       "      <td>NaN</td>\n",
       "    </tr>\n",
       "    <tr>\n",
       "      <th>2</th>\n",
       "      <td>9392</td>\n",
       "      <td>37030</td>\n",
       "      <td>ГУАП</td>\n",
       "      <td>27.03.01</td>\n",
       "      <td>Стандартизация и метрология</td>\n",
       "      <td>15.0</td>\n",
       "      <td>бюджет</td>\n",
       "      <td>очная</td>\n",
       "      <td>Бакалавриат</td>\n",
       "      <td>f</td>\n",
       "      <td>...</td>\n",
       "      <td>NaN</td>\n",
       "      <td>NaN</td>\n",
       "      <td>NaN</td>\n",
       "      <td>1.0</td>\n",
       "      <td>NaN</td>\n",
       "      <td>3.0</td>\n",
       "      <td>NaN</td>\n",
       "      <td>NaN</td>\n",
       "      <td>NaN</td>\n",
       "      <td>NaN</td>\n",
       "    </tr>\n",
       "    <tr>\n",
       "      <th>3</th>\n",
       "      <td>9392</td>\n",
       "      <td>37031</td>\n",
       "      <td>ГУАП</td>\n",
       "      <td>27.03.01</td>\n",
       "      <td>Стандартизация и метрология</td>\n",
       "      <td>15.0</td>\n",
       "      <td>особая квота</td>\n",
       "      <td>очная</td>\n",
       "      <td>Бакалавриат</td>\n",
       "      <td>f</td>\n",
       "      <td>...</td>\n",
       "      <td>NaN</td>\n",
       "      <td>NaN</td>\n",
       "      <td>NaN</td>\n",
       "      <td>1.0</td>\n",
       "      <td>NaN</td>\n",
       "      <td>3.0</td>\n",
       "      <td>NaN</td>\n",
       "      <td>NaN</td>\n",
       "      <td>NaN</td>\n",
       "      <td>NaN</td>\n",
       "    </tr>\n",
       "    <tr>\n",
       "      <th>4</th>\n",
       "      <td>9392</td>\n",
       "      <td>37032</td>\n",
       "      <td>ГУАП</td>\n",
       "      <td>12.03.05</td>\n",
       "      <td>Лазерная техника и лазерные технологии</td>\n",
       "      <td>15.0</td>\n",
       "      <td>особая квота</td>\n",
       "      <td>очная</td>\n",
       "      <td>Бакалавриат</td>\n",
       "      <td>f</td>\n",
       "      <td>...</td>\n",
       "      <td>NaN</td>\n",
       "      <td>NaN</td>\n",
       "      <td>NaN</td>\n",
       "      <td>1.0</td>\n",
       "      <td>NaN</td>\n",
       "      <td>3.0</td>\n",
       "      <td>NaN</td>\n",
       "      <td>NaN</td>\n",
       "      <td>NaN</td>\n",
       "      <td>NaN</td>\n",
       "    </tr>\n",
       "  </tbody>\n",
       "</table>\n",
       "<p>5 rows × 33 columns</p>\n",
       "</div>"
      ],
      "text/plain": [
       "    eid    aid organization      code                                    name  \\\n",
       "0  9392  37028         ГУАП  27.03.02                    Управление качеством   \n",
       "1  9392  37029         ГУАП  27.03.02                    Управление качеством   \n",
       "2  9392  37030         ГУАП  27.03.01             Стандартизация и метрология   \n",
       "3  9392  37031         ГУАП  27.03.01             Стандартизация и метрология   \n",
       "4  9392  37032         ГУАП  12.03.05  Лазерная техника и лазерные технологии   \n",
       "\n",
       "   original_weight     finsourse eduform     edulevel is_only_for_foreign  \\\n",
       "0             15.0  особая квота   очная  Бакалавриат                   f   \n",
       "1             15.0        бюджет   очная  Бакалавриат                   f   \n",
       "2             15.0        бюджет   очная  Бакалавриат                   f   \n",
       "3             15.0  особая квота   очная  Бакалавриат                   f   \n",
       "4             15.0  особая квота   очная  Бакалавриат                   f   \n",
       "\n",
       "   ...  payment_sum price_semester original original_online original_another  \\\n",
       "0  ...          NaN            NaN      NaN             1.0              NaN   \n",
       "1  ...          NaN            NaN      NaN             1.0              NaN   \n",
       "2  ...          NaN            NaN      NaN             1.0              NaN   \n",
       "3  ...          NaN            NaN      NaN             1.0              NaN   \n",
       "4  ...          NaN            NaN      NaN             1.0              NaN   \n",
       "\n",
       "   subject_count  olymp_name  svo_no_exams_application_id  \\\n",
       "0            3.0         NaN                          NaN   \n",
       "1            3.0         NaN                          NaN   \n",
       "2            3.0         NaN                          NaN   \n",
       "3            3.0         NaN                          NaN   \n",
       "4            3.0         NaN                          NaN   \n",
       "\n",
       "   belgorod_school_city svo_type  \n",
       "0                   NaN      NaN  \n",
       "1                   NaN      NaN  \n",
       "2                   NaN      NaN  \n",
       "3                   NaN      NaN  \n",
       "4                   NaN      NaN  \n",
       "\n",
       "[5 rows x 33 columns]"
      ]
     },
     "execution_count": 9,
     "metadata": {},
     "output_type": "execute_result"
    }
   ],
   "source": [
    "# статистическая информация о apllications\n",
    "print(apl.describe())\n",
    "# первые 5 строк apllications \n",
    "apl.head(5)"
   ]
  },
  {
   "cell_type": "code",
   "execution_count": 10,
   "id": "74ec3a14",
   "metadata": {},
   "outputs": [
    {
     "name": "stdout",
     "output_type": "stream",
     "text": [
      "       merged_education_level_id      volume   enrolled      vacant\n",
      "count                 460.000000  459.000000  68.000000  301.000000\n",
      "mean                    1.393478   11.819172   1.897059   17.594684\n",
      "std                     0.824172   16.273722   1.837744   21.669991\n",
      "min                     1.000000    1.000000   1.000000    1.000000\n",
      "25%                     1.000000    3.000000   1.000000    5.000000\n",
      "50%                     1.000000    5.000000   1.000000   12.000000\n",
      "75%                     1.000000   15.000000   2.000000   25.000000\n",
      "max                     4.000000  150.000000  11.000000  174.000000\n"
     ]
    },
    {
     "data": {
      "text/html": [
       "<div>\n",
       "<style scoped>\n",
       "    .dataframe tbody tr th:only-of-type {\n",
       "        vertical-align: middle;\n",
       "    }\n",
       "\n",
       "    .dataframe tbody tr th {\n",
       "        vertical-align: top;\n",
       "    }\n",
       "\n",
       "    .dataframe thead th {\n",
       "        text-align: right;\n",
       "    }\n",
       "</style>\n",
       "<table border=\"1\" class=\"dataframe\">\n",
       "  <thead>\n",
       "    <tr style=\"text-align: right;\">\n",
       "      <th></th>\n",
       "      <th>organization</th>\n",
       "      <th>code</th>\n",
       "      <th>name</th>\n",
       "      <th>finsourse</th>\n",
       "      <th>eduform</th>\n",
       "      <th>edulevel</th>\n",
       "      <th>is_only_for_foreign</th>\n",
       "      <th>merged_education_level_id</th>\n",
       "      <th>is_budget</th>\n",
       "      <th>volume</th>\n",
       "      <th>enrolled</th>\n",
       "      <th>vacant</th>\n",
       "    </tr>\n",
       "  </thead>\n",
       "  <tbody>\n",
       "    <tr>\n",
       "      <th>0</th>\n",
       "      <td>ГУАП</td>\n",
       "      <td>01.03.02</td>\n",
       "      <td>Прикладная математика и информатика</td>\n",
       "      <td>бюджет</td>\n",
       "      <td>очная</td>\n",
       "      <td>Бакалавриат</td>\n",
       "      <td>f</td>\n",
       "      <td>1</td>\n",
       "      <td>t</td>\n",
       "      <td>5.0</td>\n",
       "      <td>NaN</td>\n",
       "      <td>7.0</td>\n",
       "    </tr>\n",
       "    <tr>\n",
       "      <th>1</th>\n",
       "      <td>ГУАП</td>\n",
       "      <td>01.03.02</td>\n",
       "      <td>Прикладная математика и информатика</td>\n",
       "      <td>особая квота</td>\n",
       "      <td>очная</td>\n",
       "      <td>Бакалавриат</td>\n",
       "      <td>f</td>\n",
       "      <td>1</td>\n",
       "      <td>t</td>\n",
       "      <td>1.0</td>\n",
       "      <td>NaN</td>\n",
       "      <td>NaN</td>\n",
       "    </tr>\n",
       "    <tr>\n",
       "      <th>2</th>\n",
       "      <td>ГУАП</td>\n",
       "      <td>01.03.02</td>\n",
       "      <td>Прикладная математика и информатика</td>\n",
       "      <td>отдельная квота</td>\n",
       "      <td>очная</td>\n",
       "      <td>Бакалавриат</td>\n",
       "      <td>f</td>\n",
       "      <td>1</td>\n",
       "      <td>t</td>\n",
       "      <td>1.0</td>\n",
       "      <td>NaN</td>\n",
       "      <td>NaN</td>\n",
       "    </tr>\n",
       "    <tr>\n",
       "      <th>3</th>\n",
       "      <td>ГУАП</td>\n",
       "      <td>01.03.02</td>\n",
       "      <td>Прикладная математика и информатика</td>\n",
       "      <td>по договорам</td>\n",
       "      <td>очная</td>\n",
       "      <td>Бакалавриат</td>\n",
       "      <td>f</td>\n",
       "      <td>1</td>\n",
       "      <td>f</td>\n",
       "      <td>15.0</td>\n",
       "      <td>NaN</td>\n",
       "      <td>15.0</td>\n",
       "    </tr>\n",
       "    <tr>\n",
       "      <th>4</th>\n",
       "      <td>ГУАП</td>\n",
       "      <td>01.03.02</td>\n",
       "      <td>Прикладная математика и информатика</td>\n",
       "      <td>целевая квота</td>\n",
       "      <td>очная</td>\n",
       "      <td>Бакалавриат</td>\n",
       "      <td>f</td>\n",
       "      <td>1</td>\n",
       "      <td>t</td>\n",
       "      <td>1.0</td>\n",
       "      <td>1.0</td>\n",
       "      <td>NaN</td>\n",
       "    </tr>\n",
       "  </tbody>\n",
       "</table>\n",
       "</div>"
      ],
      "text/plain": [
       "  organization      code                                 name  \\\n",
       "0         ГУАП  01.03.02  Прикладная математика и информатика   \n",
       "1         ГУАП  01.03.02  Прикладная математика и информатика   \n",
       "2         ГУАП  01.03.02  Прикладная математика и информатика   \n",
       "3         ГУАП  01.03.02  Прикладная математика и информатика   \n",
       "4         ГУАП  01.03.02  Прикладная математика и информатика   \n",
       "\n",
       "         finsourse eduform     edulevel is_only_for_foreign  \\\n",
       "0           бюджет   очная  Бакалавриат                   f   \n",
       "1     особая квота   очная  Бакалавриат                   f   \n",
       "2  отдельная квота   очная  Бакалавриат                   f   \n",
       "3     по договорам   очная  Бакалавриат                   f   \n",
       "4    целевая квота   очная  Бакалавриат                   f   \n",
       "\n",
       "   merged_education_level_id is_budget  volume  enrolled  vacant  \n",
       "0                          1         t     5.0       NaN     7.0  \n",
       "1                          1         t     1.0       NaN     NaN  \n",
       "2                          1         t     1.0       NaN     NaN  \n",
       "3                          1         f    15.0       NaN    15.0  \n",
       "4                          1         t     1.0       1.0     NaN  "
      ]
     },
     "execution_count": 10,
     "metadata": {},
     "output_type": "execute_result"
    }
   ],
   "source": [
    "# статистическая информация о admission\n",
    "print(adm.describe())\n",
    "# первые 5 строк admission\n",
    "adm.head(5)"
   ]
  },
  {
   "cell_type": "code",
   "execution_count": 31,
   "id": "6caf34a7",
   "metadata": {},
   "outputs": [
    {
     "data": {
      "image/png": "[encoded data removed]",
      "text/plain": [
       "<Figure size 1900x600 with 1 Axes>"
      ]
     },
     "metadata": {},
     "output_type": "display_data"
    },
    {
     "data": {
      "image/png": "[encoded data removed]",
      "text/plain": [
       "<Figure size 1900x600 with 1 Axes>"
      ]
     },
     "metadata": {},
     "output_type": "display_data"
    }
   ],
   "source": [
    "# напишем функцию, которая показывает наглядно количество пропусков\n",
    "def pass_value_barh(name_df, df):\n",
    "    try:\n",
    "        (\n",
    "            (df.isna().sum())\n",
    "            .to_frame()\n",
    "            .rename(columns = {0:'space'})\n",
    "            .query('space > 0')\n",
    "            .sort_values(by = 'space', ascending = True)\n",
    "            .plot(kind = 'barh', figsize = (19,6), rot = 0, legend = False, fontsize = 15)\n",
    "            .set_title('Пропуски в ' + name_df + \"\\n\", fontsize = 22, color = 'SteelBlue')    \n",
    "        );    \n",
    "    except:\n",
    "        print('Пропусков не осталось ')\n",
    "dataframes = {\n",
    "    'applications.csv' : apl, \n",
    "    'admission.csv': adm\n",
    "}\n",
    "for name_df, df in dataframes.items():\n",
    "    pass_value_barh(name_df, df)"
   ]
  },
  {
   "cell_type": "markdown",
   "id": "34ae6e03",
   "metadata": {},
   "source": [
    "В данных присутсвуют пропуски от которых необходимо будет избавиться, возможно они уйдут сами собой, когда мы сделаем фильтрацию по интересующим нас абитуриентов"
   ]
  },
  {
   "cell_type": "markdown",
   "id": "5bd96779",
   "metadata": {},
   "source": [
    "Выберем только тех абитуриентов, которые поступают на бюджетную очную форму обучения"
   ]
  },
  {
   "cell_type": "code",
   "execution_count": 33,
   "id": "89d53f2c",
   "metadata": {},
   "outputs": [
    {
     "data": {
      "text/plain": [
       "array(['особая квота', 'бюджет', 'отдельная квота',\n",
       "       'бюджет (региональный)', 'по договорам', 'целевая квота',\n",
       "       'совмещенная (отдельная, целевая)'], dtype=object)"
      ]
     },
     "execution_count": 33,
     "metadata": {},
     "output_type": "execute_result"
    }
   ],
   "source": [
    "# все формы обучения присутствующие в признаке 'finsourse'\n",
    "apl['finsourse'].unique()"
   ]
  },
  {
   "cell_type": "code",
   "execution_count": 34,
   "id": "ed0b76a0",
   "metadata": {},
   "outputs": [
    {
     "data": {
      "text/plain": [
       "array(['очная', 'заочная', 'очно-заочная'], dtype=object)"
      ]
     },
     "execution_count": 34,
     "metadata": {},
     "output_type": "execute_result"
    }
   ],
   "source": [
    "# все формы обучения присутствующие в признаке 'eduform'\n",
    "apl['eduform'].unique()"
   ]
  },
  {
   "cell_type": "code",
   "execution_count": 35,
   "id": "852c84ae",
   "metadata": {},
   "outputs": [
    {
     "data": {
      "text/plain": [
       "array(['Бакалавриат', 'Специалитет', 'Магистратура', 'СПО', 'Аспирантура'],\n",
       "      dtype=object)"
      ]
     },
     "execution_count": 35,
     "metadata": {},
     "output_type": "execute_result"
    }
   ],
   "source": [
    "# все формы обучения присутствующие в признаке 'edulevel'\n",
    "apl['edulevel'].unique()"
   ]
  },
  {
   "cell_type": "code",
   "execution_count": 38,
   "id": "4a4c57d6",
   "metadata": {},
   "outputs": [],
   "source": [
    "# фильтрация данных\n",
    "apl = apl[((apl['finsourse'] == 'бюджет') | (apl['finsourse'] == 'бюджет (региональный)')) & \n",
    "           (apl['eduform'] == 'очная') & \n",
    "           (apl['edulevel'] == 'Бакалавриат')]"
   ]
  },
  {
   "cell_type": "code",
   "execution_count": 41,
   "id": "53737a5f",
   "metadata": {},
   "outputs": [
    {
     "data": {
      "text/plain": [
       "array(['ГУАП', 'ИФ ГУАП'], dtype=object)"
      ]
     },
     "execution_count": 41,
     "metadata": {},
     "output_type": "execute_result"
    }
   ],
   "source": [
    "# посмотрим уникальные значения в organization\n",
    "apl.organization.unique()"
   ]
  },
  {
   "cell_type": "code",
   "execution_count": 43,
   "id": "a2886e36",
   "metadata": {},
   "outputs": [],
   "source": [
    "# оставим информацию только из ГУАП\n",
    "apl = apl[apl['organization'] == 'ГУАП']\n",
    "# удалим столбец organization\n",
    "apl.drop('organization', axis = 1, inplace = True)"
   ]
  },
  {
   "cell_type": "markdown",
   "id": "6cd9e3e6",
   "metadata": {},
   "source": [
    "в applications.csv eid и aid имеют следующие обозначения:  \n",
    "- eid- идентификатор поступающего\n",
    "- aid- идентификатор заявления  \n",
    "\n",
    "так как пользователи у нас обезличенны, то объеденим их и создадим новый признак индетификатором поступающего с заявлением"
   ]
  },
  {
   "cell_type": "code",
   "execution_count": 97,
   "id": "6efd940c",
   "metadata": {},
   "outputs": [],
   "source": [
    "# создадим новый признак \n",
    "apl['id'] = (apl['eid'].astype(str) + apl['aid'].astype(str)).astype('int64')\n",
    "# удалим eid и aid из-за ненадобности\n",
    "apl.drop(['eid', 'aid'], axis = 1, inplace = True)"
   ]
  },
  {
   "cell_type": "markdown",
   "id": "6f4b46bc",
   "metadata": {},
   "source": [
    "Неинформативные данные: code, finsourse, eduform, edulevel, is_only_for_foreign, application_source, profile_status, application_status_simple, registration_datetime, merged_education_level_id, dog_date, payment_sum, price_semester, original_another, subject_count, (svo_no_exams_application_id, belgorod_school_city, svo_type): удалить пользователей с льготами так как для них отдельный конкурс \n",
    "\n",
    "Непонятные данные: original_weight, competitive_scores, entrance_test_scores, achievement_scores, ege_average_score, original, original_online \n",
    "\n",
    "Данные которое обработать: original_weight, priority, *application_status*, ege_average_score, citizenship, olymp_name"
   ]
  },
  {
   "cell_type": "code",
   "execution_count": 44,
   "id": "fd39c15f",
   "metadata": {},
   "outputs": [
    {
     "name": "stdout",
     "output_type": "stream",
     "text": [
      "<class 'pandas.core.frame.DataFrame'>\n",
      "Int64Index: 30594 entries, 1 to 57920\n",
      "Data columns (total 32 columns):\n",
      " #   Column                       Non-Null Count  Dtype  \n",
      "---  ------                       --------------  -----  \n",
      " 0   eid                          30594 non-null  int64  \n",
      " 1   aid                          30594 non-null  int64  \n",
      " 2   code                         30594 non-null  object \n",
      " 3   name                         30594 non-null  object \n",
      " 4   original_weight              6536 non-null   float64\n",
      " 5   finsourse                    30594 non-null  object \n",
      " 6   eduform                      30594 non-null  object \n",
      " 7   edulevel                     30594 non-null  object \n",
      " 8   is_only_for_foreign          30594 non-null  object \n",
      " 9   priority                     30592 non-null  float64\n",
      " 10  application_source           30594 non-null  object \n",
      " 11  profile_status               30118 non-null  object \n",
      " 12  application_status           30594 non-null  object \n",
      " 13  application_status_simple    30594 non-null  object \n",
      " 14  competitive_scores           28869 non-null  float64\n",
      " 15  entrance_test_scores         28869 non-null  float64\n",
      " 16  achievement_scores           29153 non-null  float64\n",
      " 17  ege_average_score            28920 non-null  float64\n",
      " 18  registration_datetime        30594 non-null  object \n",
      " 19  citizenship                  30594 non-null  object \n",
      " 20  merged_education_level_id    30594 non-null  int64  \n",
      " 21  dog_date                     0 non-null      object \n",
      " 22  payment_sum                  0 non-null      float64\n",
      " 23  price_semester               0 non-null      float64\n",
      " 24  original                     4232 non-null   float64\n",
      " 25  original_online              3132 non-null   float64\n",
      " 26  original_another             21501 non-null  object \n",
      " 27  subject_count                29581 non-null  float64\n",
      " 28  olymp_name                   2 non-null      object \n",
      " 29  svo_no_exams_application_id  0 non-null      float64\n",
      " 30  belgorod_school_city         292 non-null    object \n",
      " 31  svo_type                     203 non-null    object \n",
      "dtypes: float64(12), int64(3), object(17)\n",
      "memory usage: 7.7+ MB\n"
     ]
    }
   ],
   "source": [
    "apl.info()"
   ]
  },
  {
   "cell_type": "code",
   "execution_count": null,
   "id": "8ea0f0ed",
   "metadata": {},
   "outputs": [],
   "source": []
  }
 ],
 "metadata": {
  "kernelspec": {
   "display_name": "Python 3 (ipykernel)",
   "language": "python",
   "name": "python3"
  },
  "language_info": {
   "codemirror_mode": {
    "name": "ipython",
    "version": 3
   },
   "file_extension": ".py",
   "mimetype": "text/x-python",
   "name": "python",
   "nbconvert_exporter": "python",
   "pygments_lexer": "ipython3",
   "version": "3.9.13"
  },
  "toc": {
   "base_numbering": 1,
   "nav_menu": {},
   "number_sections": true,
   "sideBar": true,
   "skip_h1_title": true,
   "title_cell": "Table of Contents",
   "title_sidebar": "Contents",
   "toc_cell": true,
   "toc_position": {},
   "toc_section_display": true,
   "toc_window_display": false
  }
 },
 "nbformat": 4,
 "nbformat_minor": 5
}
