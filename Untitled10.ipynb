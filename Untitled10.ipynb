{
 "cells": [
  {
   "cell_type": "code",
   "execution_count": 8,
   "id": "c2afbaea",
   "metadata": {},
   "outputs": [],
   "source": [
    "import os\n",
    "import pandas as pd"
   ]
  },
  {
   "cell_type": "code",
   "execution_count": 17,
   "id": "c5640380",
   "metadata": {},
   "outputs": [
    {
     "name": "stderr",
     "output_type": "stream",
     "text": [
      "C:\\Users\\kil_a\\AppData\\Local\\Temp\\ipykernel_15984\\4038111315.py:9: DtypeWarning: Columns (29) have mixed types. Specify dtype option on import or set low_memory=False.\n",
      "  apl = pd.read_csv(way_apl_1, sep = ';')\n"
     ]
    }
   ],
   "source": [
    "way_apl_0 = '...\\applications.csv'\n",
    "way_apl_1 = r\"C:\\Users\\kil_a\\OneDrive\\Рабочий стол\\ГУАП\\Проект 2.0\\applications.csv\"\n",
    "way_adm_0 = '...\\admission.csv'\n",
    "way_adm_1 = r\"C:\\Users\\kil_a\\OneDrive\\Рабочий стол\\ГУАП\\Проект 2.0\\admission.csv\"\n",
    "if os.path.exists(way_apl_0) and os.path.exists(way_adm_0):\n",
    "    apl = pd.read_csv(way_apl_0, sep = ';')\n",
    "    adm = pd.read_csv(way_adm_0, sep = ';')\n",
    "elif os.path.exists(way_apl_1) and os.path.exists(way_adm_1):\n",
    "    apl = pd.read_csv(way_apl_1, sep = ';')\n",
    "    adm = pd.read_csv(way_adm_1, sep = ';')\n",
    "else:\n",
    "    print('Error (-_-)')"
   ]
  },
  {
   "cell_type": "code",
   "execution_count": 20,
   "id": "b5ae5c4d",
   "metadata": {},
   "outputs": [
    {
     "name": "stdout",
     "output_type": "stream",
     "text": [
      "<class 'pandas.core.frame.DataFrame'>\n",
      "RangeIndex: 57921 entries, 0 to 57920\n",
      "Data columns (total 33 columns):\n",
      " #   Column                       Non-Null Count  Dtype  \n",
      "---  ------                       --------------  -----  \n",
      " 0   eid                          57921 non-null  int64  \n",
      " 1   aid                          57921 non-null  int64  \n",
      " 2   organization                 57921 non-null  object \n",
      " 3   code                         57921 non-null  object \n",
      " 4   name                         57921 non-null  object \n",
      " 5   original_weight              10961 non-null  float64\n",
      " 6   finsourse                    57921 non-null  object \n",
      " 7   eduform                      57921 non-null  object \n",
      " 8   edulevel                     57921 non-null  object \n",
      " 9   is_only_for_foreign          57921 non-null  object \n",
      " 10  priority                     57913 non-null  float64\n",
      " 11  application_source           57921 non-null  object \n",
      " 12  profile_status               56135 non-null  object \n",
      " 13  application_status           57921 non-null  object \n",
      " 14  application_status_simple    57921 non-null  object \n",
      " 15  competitive_scores           48201 non-null  float64\n",
      " 16  entrance_test_scores         48201 non-null  float64\n",
      " 17  achievement_scores           45675 non-null  float64\n",
      " 18  ege_average_score            43963 non-null  float64\n",
      " 19  registration_datetime        57921 non-null  object \n",
      " 20  citizenship                  57921 non-null  object \n",
      " 21  merged_education_level_id    57921 non-null  int64  \n",
      " 22  dog_date                     1763 non-null   object \n",
      " 23  payment_sum                  1338 non-null   float64\n",
      " 24  price_semester               1764 non-null   float64\n",
      " 25  original                     9545 non-null   float64\n",
      " 26  original_online              4557 non-null   float64\n",
      " 27  original_another             31125 non-null  object \n",
      " 28  subject_count                50370 non-null  float64\n",
      " 29  olymp_name                   3 non-null      object \n",
      " 30  svo_no_exams_application_id  61 non-null     float64\n",
      " 31  belgorod_school_city         392 non-null    object \n",
      " 32  svo_type                     672 non-null    object \n",
      "dtypes: float64(12), int64(3), object(18)\n",
      "memory usage: 14.6+ MB\n"
     ]
    }
   ],
   "source": [
    "apl.info()"
   ]
  },
  {
   "cell_type": "code",
   "execution_count": 21,
   "id": "74ec3a14",
   "metadata": {},
   "outputs": [
    {
     "name": "stdout",
     "output_type": "stream",
     "text": [
      "<class 'pandas.core.frame.DataFrame'>\n",
      "RangeIndex: 460 entries, 0 to 459\n",
      "Data columns (total 12 columns):\n",
      " #   Column                     Non-Null Count  Dtype  \n",
      "---  ------                     --------------  -----  \n",
      " 0   organization               460 non-null    object \n",
      " 1   code                       460 non-null    object \n",
      " 2   name                       460 non-null    object \n",
      " 3   finsourse                  460 non-null    object \n",
      " 4   eduform                    460 non-null    object \n",
      " 5   edulevel                   460 non-null    object \n",
      " 6   is_only_for_foreign        460 non-null    object \n",
      " 7   merged_education_level_id  460 non-null    int64  \n",
      " 8   is_budget                  460 non-null    object \n",
      " 9   volume                     459 non-null    float64\n",
      " 10  enrolled                   68 non-null     float64\n",
      " 11  vacant                     301 non-null    float64\n",
      "dtypes: float64(3), int64(1), object(8)\n",
      "memory usage: 43.2+ KB\n"
     ]
    }
   ],
   "source": [
    "adm.info()"
   ]
  },
  {
   "cell_type": "code",
   "execution_count": null,
   "id": "a7db4b05",
   "metadata": {},
   "outputs": [],
   "source": []
  }
 ],
 "metadata": {
  "kernelspec": {
   "display_name": "Python 3 (ipykernel)",
   "language": "python",
   "name": "python3"
  },
  "language_info": {
   "codemirror_mode": {
    "name": "ipython",
    "version": 3
   },
   "file_extension": ".py",
   "mimetype": "text/x-python",
   "name": "python",
   "nbconvert_exporter": "python",
   "pygments_lexer": "ipython3",
   "version": "3.10.9"
  }
 },
 "nbformat": 4,
 "nbformat_minor": 5
}
